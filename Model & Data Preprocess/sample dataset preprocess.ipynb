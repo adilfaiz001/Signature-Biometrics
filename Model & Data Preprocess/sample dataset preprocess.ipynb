{
 "cells": [
  {
   "cell_type": "code",
   "execution_count": 1,
   "metadata": {},
   "outputs": [],
   "source": [
    "import tensorflow as tf\n",
    "from tensorflow.python.framework import ops \n",
    "\n",
    "from collections import Counter \n",
    "import pandas as pd\n",
    "import numpy as np\n",
    "import os\n",
    "\n",
    "import matplotlib.pyplot as plt\n",
    "%matplotlib inline "
   ]
  },
  {
   "cell_type": "code",
   "execution_count": 2,
   "metadata": {},
   "outputs": [],
   "source": [
    "# dir path for sample dataset\n",
    "dir_path = os.getcwd() \n",
    "genuine_path = dir_path + '\\\\sample dataste\\\\sample_Signature\\\\genuine\\\\'\n",
    "forged_path = dir_path + '\\\\sample dataset\\\\sample_Signature\\\\forged\\\\'\n",
    "forged_class_path = dir_path + '\\\\sample_Signature333593f\\\\sample_Signature\\\\forged_classification\\\\'\n",
    "dataset = dir_path + 'Dataset'"
   ]
  },
  {
   "cell_type": "code",
   "execution_count": 3,
   "metadata": {},
   "outputs": [
    {
     "name": "stderr",
     "output_type": "stream",
     "text": [
      "Using TensorFlow backend.\n"
     ]
    }
   ],
   "source": [
    "import keras\n",
    "from keras.applications.vgg16 import VGG16\n",
    "from keras.preprocessing import image\n",
    "from keras.applications.vgg16 import preprocess_input\n"
   ]
  },
  {
   "cell_type": "code",
   "execution_count": 4,
   "metadata": {},
   "outputs": [],
   "source": [
    "train_X = []"
   ]
  },
  {
   "cell_type": "code",
   "execution_count": 6,
   "metadata": {},
   "outputs": [],
   "source": [
    "for folderName, subfolders, filenames in os.walk(genuine_path):\n",
    "    for filename in filenames:\n",
    "        if(filename[9:12] == '001'):\n",
    "            print(filename)\n",
    "            temp_img = image.load_img(genuine_path+filename,target_size=(224,224))\n",
    "            temp_img = image.img_to_array(temp_img)\n",
    "            trainX_001.append(temp_img)\n",
    "            trainY_001.append(1)\n",
    "            train_imgs.append(filename)\n",
    "        else:\n",
    "            break\n",
    "for folderName,subfolders,filenames in os.walk(forged_class_path+'NFI-XXXYY001\\\\'):\n",
    "    for filename in filenames:\n",
    "        print(filename)\n",
    "        temp_img = image.load_img(forged_class_path+'NFI-XXXYY001\\\\'+filename,target_size=(224,224))\n",
    "        temp_img = image.img_to_array(temp_img)\n",
    "        trainX_001.append(temp_img)\n",
    "        trainY_001.append(0)\n",
    "        train_imgs.append(filename)"
   ]
  },
  {
   "cell_type": "code",
   "execution_count": 85,
   "metadata": {},
   "outputs": [],
   "source": [
    "trainX_001 = np.array(trainX_001)\n",
    "trainY_001 = np.array(trainY_001)\n",
    "train_imgs = np.array(train_imgs)"
   ]
  },
  {
   "cell_type": "code",
   "execution_count": 86,
   "metadata": {},
   "outputs": [],
   "source": [
    "permutation = np.random.permutation(trainX_001.shape[0])"
   ]
  },
  {
   "cell_type": "code",
   "execution_count": 87,
   "metadata": {},
   "outputs": [],
   "source": [
    "shuffledX_001 = trainX_001[permutation,...]"
   ]
  },
  {
   "cell_type": "code",
   "execution_count": 88,
   "metadata": {},
   "outputs": [
    {
     "data": {
      "text/plain": [
       "(10, 224, 224, 3)"
      ]
     },
     "execution_count": 88,
     "metadata": {},
     "output_type": "execute_result"
    }
   ],
   "source": [
    "shuffledX_001.shape\n"
   ]
  },
  {
   "cell_type": "code",
   "execution_count": 89,
   "metadata": {},
   "outputs": [],
   "source": [
    "shuffledY_001 = trainY_001[permutation]"
   ]
  },
  {
   "cell_type": "code",
   "execution_count": 90,
   "metadata": {},
   "outputs": [
    {
     "data": {
      "text/plain": [
       "array([1, 0, 1, 0, 1, 1, 0, 0, 1, 0])"
      ]
     },
     "execution_count": 90,
     "metadata": {},
     "output_type": "execute_result"
    }
   ],
   "source": [
    "shuffledY_001"
   ]
  },
  {
   "cell_type": "code",
   "execution_count": 91,
   "metadata": {},
   "outputs": [],
   "source": [
    "shuffled_imgs = train_imgs[permutation]"
   ]
  },
  {
   "cell_type": "code",
   "execution_count": 92,
   "metadata": {},
   "outputs": [
    {
     "data": {
      "text/plain": [
       "array(['NFI-00104001.png', 'NFI-00302001.png', 'NFI-00105001.png',\n",
       "       'NFI-00301001.png', 'NFI-00103001.png', 'NFI-00101001.png',\n",
       "       'NFI-00305001.png', 'NFI-00303001.png', 'NFI-00102001.png',\n",
       "       'NFI-00304001.png'], dtype='<U16')"
      ]
     },
     "execution_count": 92,
     "metadata": {},
     "output_type": "execute_result"
    }
   ],
   "source": [
    "shuffled_imgs"
   ]
  },
  {
   "cell_type": "code",
   "execution_count": 93,
   "metadata": {},
   "outputs": [],
   "source": [
    "from sklearn.model_selection import train_test_split\n",
    "xTrain, xTest, yTrain, yTest = train_test_split(trainX_001, trainY_001, test_size = 0.2, random_state = 0)"
   ]
  },
  {
   "cell_type": "code",
   "execution_count": 94,
   "metadata": {},
   "outputs": [
    {
     "data": {
      "text/plain": [
       "(8, 224, 224, 3)"
      ]
     },
     "execution_count": 94,
     "metadata": {},
     "output_type": "execute_result"
    }
   ],
   "source": [
    "xTrain.shape"
   ]
  },
  {
   "cell_type": "code",
   "execution_count": 96,
   "metadata": {},
   "outputs": [
    {
     "data": {
      "text/plain": [
       "(2, 224, 224, 3)"
      ]
     },
     "execution_count": 96,
     "metadata": {},
     "output_type": "execute_result"
    }
   ],
   "source": [
    "xTest.shape"
   ]
  },
  {
   "cell_type": "code",
   "execution_count": null,
   "metadata": {},
   "outputs": [],
   "source": []
  }
 ],
 "metadata": {
  "kernelspec": {
   "display_name": "TensorFlow-GPU",
   "language": "python",
   "name": "tensorflow-gpu"
  },
  "language_info": {
   "codemirror_mode": {
    "name": "ipython",
    "version": 3
   },
   "file_extension": ".py",
   "mimetype": "text/x-python",
   "name": "python",
   "nbconvert_exporter": "python",
   "pygments_lexer": "ipython3",
   "version": "3.5.6"
  }
 },
 "nbformat": 4,
 "nbformat_minor": 2
}
