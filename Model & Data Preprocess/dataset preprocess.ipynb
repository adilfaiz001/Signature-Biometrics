{
 "cells": [
  {
   "cell_type": "code",
   "execution_count": 1,
   "metadata": {},
   "outputs": [],
   "source": [
    "import tensorflow as tf\n",
    "from tensorflow.python.framework import ops \n",
    "\n",
    "from collections import Counter \n",
    "import pandas as pd\n",
    "import numpy as np\n",
    "import os\n",
    "\n",
    "import matplotlib.pyplot as plt\n",
    "%matplotlib inline "
   ]
  },
  {
   "cell_type": "code",
   "execution_count": 2,
   "metadata": {},
   "outputs": [
    {
     "name": "stdout",
     "output_type": "stream",
     "text": [
      "C:\\Users\\adilf\\Deeplearning Projects\\hackerearth#5\\Dataset\\\n"
     ]
    }
   ],
   "source": [
    "# dir path for sample dataset\n",
    "dir_path = os.getcwd() \n",
    "dataset_path = dir_path + '\\\\Dataset\\\\'\n",
    "dataset2_path = dir_path + '\\\\Dataset2\\\\'\n",
    "print(dataset_path)"
   ]
  },
  {
   "cell_type": "code",
   "execution_count": 3,
   "metadata": {},
   "outputs": [
    {
     "name": "stderr",
     "output_type": "stream",
     "text": [
      "Using TensorFlow backend.\n"
     ]
    }
   ],
   "source": [
    "import keras\n",
    "from keras.applications.vgg16 import VGG16\n",
    "from keras.preprocessing import image\n",
    "from keras.applications.vgg16 import preprocess_input"
   ]
  },
  {
   "cell_type": "code",
   "execution_count": 84,
   "metadata": {},
   "outputs": [],
   "source": [
    "X = []\n",
    "Y = []\n",
    "\n",
    "x_true = []\n",
    "x_false = []"
   ]
  },
  {
   "cell_type": "code",
   "execution_count": 85,
   "metadata": {},
   "outputs": [],
   "source": [
    "# Dataset1\n",
    "\n",
    "for folderName, subfolders, filenames in os.walk(dataset_path):\n",
    "    for subfolder in subfolders:\n",
    "        for _,sF,_ in os.walk(dataset_path+subfolder):\n",
    "            if(len(sF) != 0):\n",
    "                for _,_,im in os.walk(dataset_path+subfolder+'\\\\'+sF[0]+'\\\\'):\n",
    "                    for i in im:\n",
    "                        temp_img = image.load_img(dataset_path + subfolder + '\\\\' + sF[0] + '\\\\' + i, target_size=(224,224))\n",
    "                        temp_img = image.img_to_array(temp_img)\n",
    "                        X.append(temp_img)\n",
    "                        x_true.append(temp_img)\n",
    "                        Y.append(1)\n",
    "                for _,_,im in os.walk(dataset_path+subfolder+'\\\\'+sF[1]+'\\\\'):\n",
    "                    for i in im:\n",
    "                        temp_img = image.load_img(dataset_path + subfolder + '\\\\' + sF[1] + '\\\\' + i, target_size=(224,224))\n",
    "                        temp_img = image.img_to_array(temp_img)\n",
    "                        X.append(temp_img)\n",
    "                        x_false.append(temp_img)\n",
    "                        Y.append(0)\n",
    "'''\n",
    "# Dataset2\n",
    "for _, subfolders, _  in os.walk(dataset2_path + 'Train\\\\'):\n",
    "    for subfolder in subfolders:\n",
    "        if subfolder == '1':\n",
    "            for _, _, files in os.walk(dataset2_path + 'Train\\\\' + subfolder):\n",
    "                for im in files:\n",
    "                    temp_img = image.load_img(dataset2_path + 'Train\\\\' + subfolder + '\\\\' + im,target_size=(400,400))\n",
    "                    temp_img = image.img_to_array(temp_img)\n",
    "                    X.append(temp_img / 255)\n",
    "                    x_true.append(temp_img / 255)\n",
    "#                     L.append(temp_img.shape[0])\n",
    "#                     W.append(temp_img.shape[1])\n",
    "                    Y.append(1) \n",
    "            \n",
    "        elif subfolder == '0':\n",
    "            for _, _, files in os.walk(dataset2_path + 'Train\\\\' + subfolder):\n",
    "                for im in files:\n",
    "                    temp_img = image.load_img(dataset2_path + 'Train\\\\' + subfolder + '\\\\' + im,target_size=(400,400))\n",
    "                    temp_img = image.img_to_array(temp_img)\n",
    "                    X.append(temp_img / 255)\n",
    "                    x_false.append(temp_img / 255)\n",
    "#                     L.append(temp_img.shape[0])\n",
    "#                     W.append(temp_img.shape[1])\n",
    "                    Y.append(0)\n",
    "'''"
   ]
  },
  {
   "cell_type": "code",
   "execution_count": 86,
   "metadata": {},
   "outputs": [],
   "source": [
    "X = np.array(X)\n",
    "Y = np.array(Y)\n",
    "\n",
    "x_true = np.array(x_true)\n",
    "x_false = np.array(x_false)\n",
    "\n",
    "X /= 255\n",
    "x_true /= 255\n",
    "x_false /= 255"
   ]
  },
  {
   "cell_type": "code",
   "execution_count": 87,
   "metadata": {},
   "outputs": [
    {
     "data": {
      "text/plain": [
       "(20, 400, 400, 3)"
      ]
     },
     "execution_count": 87,
     "metadata": {},
     "output_type": "execute_result"
    }
   ],
   "source": [
    "x_false.shape"
   ]
  },
  {
   "cell_type": "code",
   "execution_count": 92,
   "metadata": {},
   "outputs": [],
   "source": [
    "from keras.preprocessing.image import ImageDataGenerator\n",
    "datagen_true = ImageDataGenerator(\n",
    "        rotation_range=10,\n",
    "        width_shift_range=0.05,\n",
    "        height_shift_range=0.05,\n",
    "        horizontal_flip=False,\n",
    "        fill_mode='nearest')\n",
    "\n",
    "datagen_false = ImageDataGenerator(\n",
    "        rotation_range=10,\n",
    "        width_shift_range=0.05,\n",
    "        height_shift_range=0.05,\n",
    "        horizontal_flip=False,\n",
    "        fill_mode='nearest')\n",
    "datagen_true.fit(x_true)\n",
    "datagen_false.fit(x_false)"
   ]
  },
  {
   "cell_type": "code",
   "execution_count": null,
   "metadata": {},
   "outputs": [],
   "source": [
    "X_aug = []\n",
    "Y_aug = []"
   ]
  },
  {
   "cell_type": "code",
   "execution_count": 94,
   "metadata": {},
   "outputs": [],
   "source": [
    "i = 0\n",
    "for batch in datagen_true.flow(x_true, y=None, batch_size=32):\n",
    "    i = i + 1\n",
    "    if i >= 30:\n",
    "        break\n",
    "    for img in batch:\n",
    "        X_aug.append(img)\n",
    "        Y_aug.append(1)"
   ]
  },
  {
   "cell_type": "code",
   "execution_count": null,
   "metadata": {},
   "outputs": [],
   "source": [
    "i = 0\n",
    "for batch in datagen_true.flow(x_false, y=None, batch_size=32):\n",
    "    i = i + 1\n",
    "    if i >= 30:\n",
    "        break\n",
    "    for img in batch:\n",
    "        X_aug.append(img)\n",
    "        Y_aug.append(0)"
   ]
  },
  {
   "cell_type": "code",
   "execution_count": 17,
   "metadata": {},
   "outputs": [],
   "source": [
    "X_aug = np.array(X_aug)"
   ]
  },
  {
   "cell_type": "code",
   "execution_count": 23,
   "metadata": {},
   "outputs": [
    {
     "name": "stderr",
     "output_type": "stream",
     "text": [
      "Clipping input data to the valid range for imshow with RGB data ([0..1] for floats or [0..255] for integers).\n"
     ]
    },
    {
     "data": {
      "text/plain": [
       "<matplotlib.image.AxesImage at 0x228e3ff91d0>"
      ]
     },
     "execution_count": 23,
     "metadata": {},
     "output_type": "execute_result"
    },
    {
     "data": {
      "image/png": "[encoded data removed]",
      "text/plain": [
       "<Figure size 432x288 with 1 Axes>"
      ]
     },
     "metadata": {
      "needs_background": "light"
     },
     "output_type": "display_data"
    }
   ],
   "source": [
    "import h5py\n",
    "with h5py.File('X_augment.h5', 'w') as hf:\n",
    "    hf.create_dataset(\"X_aug\",  data=X_aug)\n",
    "with h5py.File('Y_augment.h5', 'w') as hf:\n",
    "    hf.create_dataset(\"Y_aug\",  data=Y_aug)"
   ]
  },
  {
   "cell_type": "code",
   "execution_count": null,
   "metadata": {},
   "outputs": [],
   "source": []
  }
 ],
 "metadata": {
  "kernelspec": {
   "display_name": "TensorFlow-GPU",
   "language": "python",
   "name": "tensorflow-gpu"
  },
  "language_info": {
   "codemirror_mode": {
    "name": "ipython",
    "version": 3
   },
   "file_extension": ".py",
   "mimetype": "text/x-python",
   "name": "python",
   "nbconvert_exporter": "python",
   "pygments_lexer": "ipython3",
   "version": "3.5.6"
  }
 },
 "nbformat": 4,
 "nbformat_minor": 2
}
