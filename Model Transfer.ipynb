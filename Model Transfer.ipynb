{
 "cells": [
  {
   "cell_type": "code",
   "execution_count": 1,
   "metadata": {},
   "outputs": [
    {
     "name": "stderr",
     "output_type": "stream",
     "text": [
      "Using TensorFlow backend.\n"
     ]
    }
   ],
   "source": [
    "from keras import applications\n",
    "from keras.preprocessing.image import ImageDataGenerator\n",
    "from keras import optimizers\n",
    "from keras.models import Sequential, Model \n",
    "from keras.layers import Dropout, Flatten, Dense, GlobalAveragePooling2D\n",
    "from keras import backend as k \n",
    "from keras.callbacks import ModelCheckpoint, LearningRateScheduler, TensorBoard, EarlyStopping"
   ]
  },
  {
   "cell_type": "code",
   "execution_count": 2,
   "metadata": {},
   "outputs": [],
   "source": [
    "img_width, img_height = 256, 256\n",
    "train_data_dir = \"Final Dataset/train\"\n",
    "validation_data_dir = \"Final Dataset/val\"\n",
    "test_data_dir = \"Final Dataset/test\"\n",
    "nb_train_samples = 360\n",
    "nb_validation_samples = 16 \n",
    "nb_test_samples = 20\n",
    "batch_size = 16\n",
    "epochs = 50"
   ]
  },
  {
   "cell_type": "code",
   "execution_count": 3,
   "metadata": {},
   "outputs": [],
   "source": [
    "model = applications.VGG16(weights = \"imagenet\", include_top=False, input_shape = (img_width, img_height, 3))"
   ]
  },
  {
   "cell_type": "code",
   "execution_count": 4,
   "metadata": {},
   "outputs": [
    {
     "name": "stdout",
     "output_type": "stream",
     "text": [
      "_________________________________________________________________\n",
      "Layer (type)                 Output Shape              Param #   \n",
      "=================================================================\n",
      "input_1 (InputLayer)         (None, 256, 256, 3)       0         \n",
      "_________________________________________________________________\n",
      "block1_conv1 (Conv2D)        (None, 256, 256, 64)      1792      \n",
      "_________________________________________________________________\n",
      "block1_conv2 (Conv2D)        (None, 256, 256, 64)      36928     \n",
      "_________________________________________________________________\n",
      "block1_pool (MaxPooling2D)   (None, 128, 128, 64)      0         \n",
      "_________________________________________________________________\n",
      "block2_conv1 (Conv2D)        (None, 128, 128, 128)     73856     \n",
      "_________________________________________________________________\n",
      "block2_conv2 (Conv2D)        (None, 128, 128, 128)     147584    \n",
      "_________________________________________________________________\n",
      "block2_pool (MaxPooling2D)   (None, 64, 64, 128)       0         \n",
      "_________________________________________________________________\n",
      "block3_conv1 (Conv2D)        (None, 64, 64, 256)       295168    \n",
      "_________________________________________________________________\n",
      "block3_conv2 (Conv2D)        (None, 64, 64, 256)       590080    \n",
      "_________________________________________________________________\n",
      "block3_conv3 (Conv2D)        (None, 64, 64, 256)       590080    \n",
      "_________________________________________________________________\n",
      "block3_pool (MaxPooling2D)   (None, 32, 32, 256)       0         \n",
      "_________________________________________________________________\n",
      "block4_conv1 (Conv2D)        (None, 32, 32, 512)       1180160   \n",
      "_________________________________________________________________\n",
      "block4_conv2 (Conv2D)        (None, 32, 32, 512)       2359808   \n",
      "_________________________________________________________________\n",
      "block4_conv3 (Conv2D)        (None, 32, 32, 512)       2359808   \n",
      "_________________________________________________________________\n",
      "block4_pool (MaxPooling2D)   (None, 16, 16, 512)       0         \n",
      "_________________________________________________________________\n",
      "block5_conv1 (Conv2D)        (None, 16, 16, 512)       2359808   \n",
      "_________________________________________________________________\n",
      "block5_conv2 (Conv2D)        (None, 16, 16, 512)       2359808   \n",
      "_________________________________________________________________\n",
      "block5_conv3 (Conv2D)        (None, 16, 16, 512)       2359808   \n",
      "_________________________________________________________________\n",
      "block5_pool (MaxPooling2D)   (None, 8, 8, 512)         0         \n",
      "=================================================================\n",
      "Total params: 14,714,688\n",
      "Trainable params: 14,714,688\n",
      "Non-trainable params: 0\n",
      "_________________________________________________________________\n"
     ]
    }
   ],
   "source": [
    "model.summary()"
   ]
  },
  {
   "cell_type": "code",
   "execution_count": 5,
   "metadata": {},
   "outputs": [],
   "source": [
    "for layer in model.layers[:5]:\n",
    "    layer.trainable = False"
   ]
  },
  {
   "cell_type": "code",
   "execution_count": 6,
   "metadata": {},
   "outputs": [],
   "source": [
    "#Adding custom Layers \n",
    "x = model.output\n",
    "x = Flatten()(x)\n",
    "x = Dense(1024, activation=\"relu\")(x)\n",
    "x = Dropout(0.5)(x)\n",
    "x = Dense(1024, activation=\"relu\")(x)\n",
    "predictions = Dense(2, activation=\"softmax\")(x)"
   ]
  },
  {
   "cell_type": "code",
   "execution_count": 7,
   "metadata": {},
   "outputs": [
    {
     "name": "stderr",
     "output_type": "stream",
     "text": [
      "D:\\Programs\\Anaconda2\\envs\\tensorflow-gpu\\lib\\site-packages\\ipykernel_launcher.py:2: UserWarning: Update your `Model` call to the Keras 2 API: `Model(inputs=Tensor(\"in..., outputs=Tensor(\"de...)`\n",
      "  \n"
     ]
    }
   ],
   "source": [
    "# creating the final model \n",
    "model_final = Model(input = model.input, output = predictions)\n",
    "\n",
    "# compile the model \n",
    "model_final.compile(loss = \"categorical_crossentropy\", optimizer = optimizers.SGD(lr=0.0001, momentum=0.9), metrics=[\"accuracy\"])"
   ]
  },
  {
   "cell_type": "code",
   "execution_count": 8,
   "metadata": {},
   "outputs": [
    {
     "name": "stdout",
     "output_type": "stream",
     "text": [
      "_________________________________________________________________\n",
      "Layer (type)                 Output Shape              Param #   \n",
      "=================================================================\n",
      "input_1 (InputLayer)         (None, 256, 256, 3)       0         \n",
      "_________________________________________________________________\n",
      "block1_conv1 (Conv2D)        (None, 256, 256, 64)      1792      \n",
      "_________________________________________________________________\n",
      "block1_conv2 (Conv2D)        (None, 256, 256, 64)      36928     \n",
      "_________________________________________________________________\n",
      "block1_pool (MaxPooling2D)   (None, 128, 128, 64)      0         \n",
      "_________________________________________________________________\n",
      "block2_conv1 (Conv2D)        (None, 128, 128, 128)     73856     \n",
      "_________________________________________________________________\n",
      "block2_conv2 (Conv2D)        (None, 128, 128, 128)     147584    \n",
      "_________________________________________________________________\n",
      "block2_pool (MaxPooling2D)   (None, 64, 64, 128)       0         \n",
      "_________________________________________________________________\n",
      "block3_conv1 (Conv2D)        (None, 64, 64, 256)       295168    \n",
      "_________________________________________________________________\n",
      "block3_conv2 (Conv2D)        (None, 64, 64, 256)       590080    \n",
      "_________________________________________________________________\n",
      "block3_conv3 (Conv2D)        (None, 64, 64, 256)       590080    \n",
      "_________________________________________________________________\n",
      "block3_pool (MaxPooling2D)   (None, 32, 32, 256)       0         \n",
      "_________________________________________________________________\n",
      "block4_conv1 (Conv2D)        (None, 32, 32, 512)       1180160   \n",
      "_________________________________________________________________\n",
      "block4_conv2 (Conv2D)        (None, 32, 32, 512)       2359808   \n",
      "_________________________________________________________________\n",
      "block4_conv3 (Conv2D)        (None, 32, 32, 512)       2359808   \n",
      "_________________________________________________________________\n",
      "block4_pool (MaxPooling2D)   (None, 16, 16, 512)       0         \n",
      "_________________________________________________________________\n",
      "block5_conv1 (Conv2D)        (None, 16, 16, 512)       2359808   \n",
      "_________________________________________________________________\n",
      "block5_conv2 (Conv2D)        (None, 16, 16, 512)       2359808   \n",
      "_________________________________________________________________\n",
      "block5_conv3 (Conv2D)        (None, 16, 16, 512)       2359808   \n",
      "_________________________________________________________________\n",
      "block5_pool (MaxPooling2D)   (None, 8, 8, 512)         0         \n",
      "_________________________________________________________________\n",
      "flatten_1 (Flatten)          (None, 32768)             0         \n",
      "_________________________________________________________________\n",
      "dense_1 (Dense)              (None, 1024)              33555456  \n",
      "_________________________________________________________________\n",
      "dropout_1 (Dropout)          (None, 1024)              0         \n",
      "_________________________________________________________________\n",
      "dense_2 (Dense)              (None, 1024)              1049600   \n",
      "_________________________________________________________________\n",
      "dense_3 (Dense)              (None, 2)                 2050      \n",
      "=================================================================\n",
      "Total params: 49,321,794\n",
      "Trainable params: 49,209,218\n",
      "Non-trainable params: 112,576\n",
      "_________________________________________________________________\n"
     ]
    }
   ],
   "source": [
    "model_final.summary()"
   ]
  },
  {
   "cell_type": "code",
   "execution_count": 9,
   "metadata": {},
   "outputs": [],
   "source": [
    "# Initiate the train and test generators with data Augumentation \n",
    "train_datagen = ImageDataGenerator(\n",
    "rescale = 1./255,\n",
    "horizontal_flip = False,\n",
    "fill_mode = \"nearest\",\n",
    "width_shift_range = 0.05,\n",
    "height_shift_range=0.05,\n",
    "rotation_range=15)\n",
    "\n",
    "test_datagen = ImageDataGenerator(\n",
    "rescale = 1./255,\n",
    "horizontal_flip = False,\n",
    "fill_mode = \"nearest\",\n",
    "width_shift_range = 0.05,\n",
    "height_shift_range=0.05,\n",
    "rotation_range=15)"
   ]
  },
  {
   "cell_type": "code",
   "execution_count": 10,
   "metadata": {},
   "outputs": [
    {
     "name": "stdout",
     "output_type": "stream",
     "text": [
      "Found 704 images belonging to 2 classes.\n"
     ]
    }
   ],
   "source": [
    "train_generator = train_datagen.flow_from_directory(\n",
    "train_data_dir,\n",
    "target_size = (img_height, img_width),\n",
    "batch_size = batch_size, \n",
    "class_mode = \"categorical\")"
   ]
  },
  {
   "cell_type": "code",
   "execution_count": 11,
   "metadata": {},
   "outputs": [
    {
     "name": "stdout",
     "output_type": "stream",
     "text": [
      "Found 16 images belonging to 2 classes.\n"
     ]
    }
   ],
   "source": [
    "validation_generator = test_datagen.flow_from_directory(\n",
    "validation_data_dir,\n",
    "target_size = (img_height, img_width),\n",
    "class_mode = \"categorical\")"
   ]
  },
  {
   "cell_type": "code",
   "execution_count": 12,
   "metadata": {},
   "outputs": [],
   "source": [
    "# Save the model according to the conditions  \n",
    "checkpoint = ModelCheckpoint(\"vgg16_1.h5\", monitor='val_acc', verbose=1, save_best_only=True, save_weights_only=False, mode='auto', period=1)\n",
    "early = EarlyStopping(monitor='val_acc', min_delta=0, patience=10, verbose=1, mode='auto')"
   ]
  },
  {
   "cell_type": "code",
   "execution_count": 13,
   "metadata": {},
   "outputs": [
    {
     "name": "stderr",
     "output_type": "stream",
     "text": [
      "D:\\Programs\\Anaconda2\\envs\\tensorflow-gpu\\lib\\site-packages\\ipykernel_launcher.py:8: UserWarning: The semantics of the Keras 2 argument `steps_per_epoch` is not the same as the Keras 1 argument `samples_per_epoch`. `steps_per_epoch` is the number of batches to draw from the generator at each epoch. Basically steps_per_epoch = samples_per_epoch/batch_size. Similarly `nb_val_samples`->`validation_steps` and `val_samples`->`steps` arguments have changed. Update your method calls accordingly.\n",
      "  \n",
      "D:\\Programs\\Anaconda2\\envs\\tensorflow-gpu\\lib\\site-packages\\ipykernel_launcher.py:8: UserWarning: Update your `fit_generator` call to the Keras 2 API: `fit_generator(<keras_pre..., validation_data=<keras_pre..., steps_per_epoch=22, validation_steps=16, epochs=50, callbacks=[<keras.ca...)`\n",
      "  \n"
     ]
    },
    {
     "name": "stdout",
     "output_type": "stream",
     "text": [
      "Epoch 1/50\n",
      "22/22 [==============================] - 32s 1s/step - loss: 0.7359 - acc: 0.5114 - val_loss: 0.6948 - val_acc: 0.5000\n",
      "\n",
      "Epoch 00001: val_acc improved from -inf to 0.50000, saving model to vgg16_1.h5\n",
      "Epoch 2/50\n",
      "22/22 [==============================] - 15s 686ms/step - loss: 0.7329 - acc: 0.5625 - val_loss: 0.7700 - val_acc: 0.5000\n",
      "\n",
      "Epoch 00002: val_acc did not improve from 0.50000\n",
      "Epoch 3/50\n",
      "22/22 [==============================] - 15s 673ms/step - loss: 0.7142 - acc: 0.5284 - val_loss: 0.6627 - val_acc: 0.5000\n",
      "\n",
      "Epoch 00003: val_acc did not improve from 0.50000\n",
      "Epoch 4/50\n",
      "22/22 [==============================] - 15s 673ms/step - loss: 0.6775 - acc: 0.5739 - val_loss: 0.6417 - val_acc: 0.7148\n",
      "\n",
      "Epoch 00004: val_acc improved from 0.50000 to 0.71484, saving model to vgg16_1.h5\n",
      "Epoch 5/50\n",
      "22/22 [==============================] - 15s 674ms/step - loss: 0.6475 - acc: 0.6250 - val_loss: 0.6472 - val_acc: 0.6445\n",
      "\n",
      "Epoch 00005: val_acc did not improve from 0.71484\n",
      "Epoch 6/50\n",
      "22/22 [==============================] - 15s 672ms/step - loss: 0.6286 - acc: 0.6420 - val_loss: 0.6114 - val_acc: 0.7031\n",
      "\n",
      "Epoch 00006: val_acc did not improve from 0.71484\n",
      "Epoch 7/50\n",
      "22/22 [==============================] - 15s 676ms/step - loss: 0.6066 - acc: 0.6761 - val_loss: 0.6892 - val_acc: 0.5078\n",
      "\n",
      "Epoch 00007: val_acc did not improve from 0.71484\n",
      "Epoch 8/50\n",
      "22/22 [==============================] - 15s 676ms/step - loss: 0.5712 - acc: 0.6903 - val_loss: 0.6402 - val_acc: 0.5508\n",
      "\n",
      "Epoch 00008: val_acc did not improve from 0.71484\n",
      "Epoch 9/50\n",
      "22/22 [==============================] - 15s 676ms/step - loss: 0.5179 - acc: 0.7443 - val_loss: 0.6750 - val_acc: 0.5508\n",
      "\n",
      "Epoch 00009: val_acc did not improve from 0.71484\n",
      "Epoch 10/50\n",
      "22/22 [==============================] - 15s 676ms/step - loss: 0.5522 - acc: 0.7102 - val_loss: 0.6042 - val_acc: 0.6562\n",
      "\n",
      "Epoch 00010: val_acc did not improve from 0.71484\n",
      "Epoch 11/50\n",
      "22/22 [==============================] - 15s 675ms/step - loss: 0.5041 - acc: 0.7557 - val_loss: 0.5312 - val_acc: 0.7383\n",
      "\n",
      "Epoch 00011: val_acc improved from 0.71484 to 0.73828, saving model to vgg16_1.h5\n",
      "Epoch 12/50\n",
      "22/22 [==============================] - 15s 676ms/step - loss: 0.4624 - acc: 0.7898 - val_loss: 0.6070 - val_acc: 0.6758\n",
      "\n",
      "Epoch 00012: val_acc did not improve from 0.73828\n",
      "Epoch 13/50\n",
      "22/22 [==============================] - 15s 675ms/step - loss: 0.4637 - acc: 0.7869 - val_loss: 0.4426 - val_acc: 0.8359\n",
      "\n",
      "Epoch 00013: val_acc improved from 0.73828 to 0.83594, saving model to vgg16_1.h5\n",
      "Epoch 14/50\n",
      "22/22 [==============================] - 15s 675ms/step - loss: 0.3890 - acc: 0.8494 - val_loss: 0.4499 - val_acc: 0.8086\n",
      "\n",
      "Epoch 00014: val_acc did not improve from 0.83594\n",
      "Epoch 15/50\n",
      "22/22 [==============================] - 15s 676ms/step - loss: 0.3729 - acc: 0.8494 - val_loss: 0.4254 - val_acc: 0.8047\n",
      "\n",
      "Epoch 00015: val_acc did not improve from 0.83594\n",
      "Epoch 16/50\n",
      "22/22 [==============================] - 15s 675ms/step - loss: 0.3329 - acc: 0.8778 - val_loss: 0.4024 - val_acc: 0.8359\n",
      "\n",
      "Epoch 00016: val_acc did not improve from 0.83594\n",
      "Epoch 17/50\n",
      "22/22 [==============================] - 15s 675ms/step - loss: 0.3175 - acc: 0.8608 - val_loss: 0.4324 - val_acc: 0.7773\n",
      "\n",
      "Epoch 00017: val_acc did not improve from 0.83594\n",
      "Epoch 18/50\n",
      "22/22 [==============================] - 15s 675ms/step - loss: 0.2979 - acc: 0.8636 - val_loss: 0.4574 - val_acc: 0.7500\n",
      "\n",
      "Epoch 00018: val_acc did not improve from 0.83594\n",
      "Epoch 19/50\n",
      "22/22 [==============================] - 15s 674ms/step - loss: 0.2684 - acc: 0.8920 - val_loss: 0.3130 - val_acc: 0.8945\n",
      "\n",
      "Epoch 00019: val_acc improved from 0.83594 to 0.89453, saving model to vgg16_1.h5\n",
      "Epoch 20/50\n",
      "22/22 [==============================] - 15s 675ms/step - loss: 0.2283 - acc: 0.9119 - val_loss: 0.4807 - val_acc: 0.7734\n",
      "\n",
      "Epoch 00020: val_acc did not improve from 0.89453\n",
      "Epoch 21/50\n",
      "22/22 [==============================] - 15s 673ms/step - loss: 0.2951 - acc: 0.8580 - val_loss: 0.3002 - val_acc: 0.8828\n",
      "\n",
      "Epoch 00021: val_acc did not improve from 0.89453\n",
      "Epoch 22/50\n",
      "22/22 [==============================] - 15s 674ms/step - loss: 0.2310 - acc: 0.9034 - val_loss: 0.2603 - val_acc: 0.9297\n",
      "\n",
      "Epoch 00022: val_acc improved from 0.89453 to 0.92969, saving model to vgg16_1.h5\n",
      "Epoch 23/50\n",
      "22/22 [==============================] - 15s 675ms/step - loss: 0.2217 - acc: 0.9034 - val_loss: 0.1847 - val_acc: 0.9609\n",
      "\n",
      "Epoch 00023: val_acc improved from 0.92969 to 0.96094, saving model to vgg16_1.h5\n",
      "Epoch 24/50\n",
      "22/22 [==============================] - 15s 674ms/step - loss: 0.2235 - acc: 0.9062 - val_loss: 0.4738 - val_acc: 0.7461\n",
      "\n",
      "Epoch 00024: val_acc did not improve from 0.96094\n",
      "Epoch 25/50\n",
      "22/22 [==============================] - 15s 674ms/step - loss: 0.1394 - acc: 0.9574 - val_loss: 0.2939 - val_acc: 0.8438\n",
      "\n",
      "Epoch 00025: val_acc did not improve from 0.96094\n",
      "Epoch 26/50\n",
      "22/22 [==============================] - 15s 674ms/step - loss: 0.2172 - acc: 0.9062 - val_loss: 0.2786 - val_acc: 0.8789\n",
      "\n",
      "Epoch 00026: val_acc did not improve from 0.96094\n",
      "Epoch 27/50\n",
      "22/22 [==============================] - 15s 683ms/step - loss: 0.2018 - acc: 0.9233 - val_loss: 0.1801 - val_acc: 0.9609\n",
      "\n",
      "Epoch 00027: val_acc did not improve from 0.96094\n",
      "Epoch 28/50\n",
      "22/22 [==============================] - 15s 679ms/step - loss: 0.1902 - acc: 0.9290 - val_loss: 0.2138 - val_acc: 0.9023\n",
      "\n",
      "Epoch 00028: val_acc did not improve from 0.96094\n",
      "Epoch 29/50\n",
      "22/22 [==============================] - 15s 689ms/step - loss: 0.1206 - acc: 0.9631 - val_loss: 0.0827 - val_acc: 0.9883\n",
      "\n",
      "Epoch 00029: val_acc improved from 0.96094 to 0.98828, saving model to vgg16_1.h5\n",
      "Epoch 30/50\n",
      "22/22 [==============================] - 15s 687ms/step - loss: 0.1282 - acc: 0.9517 - val_loss: 0.2306 - val_acc: 0.8906\n",
      "\n",
      "Epoch 00030: val_acc did not improve from 0.98828\n",
      "Epoch 31/50\n",
      "22/22 [==============================] - 15s 674ms/step - loss: 0.1238 - acc: 0.9574 - val_loss: 0.1100 - val_acc: 0.9766\n",
      "\n",
      "Epoch 00031: val_acc did not improve from 0.98828\n",
      "Epoch 32/50\n",
      "22/22 [==============================] - 15s 674ms/step - loss: 0.1095 - acc: 0.9659 - val_loss: 0.1456 - val_acc: 0.9570\n",
      "\n",
      "Epoch 00032: val_acc did not improve from 0.98828\n",
      "Epoch 33/50\n",
      "22/22 [==============================] - 15s 674ms/step - loss: 0.1032 - acc: 0.9688 - val_loss: 0.3040 - val_acc: 0.8750\n",
      "\n",
      "Epoch 00033: val_acc did not improve from 0.98828\n",
      "Epoch 34/50\n",
      "22/22 [==============================] - 15s 675ms/step - loss: 0.1571 - acc: 0.9403 - val_loss: 0.0771 - val_acc: 0.9844\n",
      "\n",
      "Epoch 00034: val_acc did not improve from 0.98828\n",
      "Epoch 35/50\n",
      "22/22 [==============================] - 15s 674ms/step - loss: 0.0965 - acc: 0.9688 - val_loss: 0.1713 - val_acc: 0.9141\n",
      "\n",
      "Epoch 00035: val_acc did not improve from 0.98828\n",
      "Epoch 36/50\n",
      "22/22 [==============================] - 15s 674ms/step - loss: 0.0940 - acc: 0.9631 - val_loss: 0.2523 - val_acc: 0.8672\n",
      "\n",
      "Epoch 00036: val_acc did not improve from 0.98828\n",
      "Epoch 37/50\n",
      "22/22 [==============================] - 15s 674ms/step - loss: 0.0828 - acc: 0.9688 - val_loss: 0.1368 - val_acc: 0.9336\n",
      "\n",
      "Epoch 00037: val_acc did not improve from 0.98828\n",
      "Epoch 38/50\n",
      "22/22 [==============================] - 15s 674ms/step - loss: 0.0741 - acc: 0.9773 - val_loss: 0.0950 - val_acc: 0.9688\n",
      "\n",
      "Epoch 00038: val_acc did not improve from 0.98828\n",
      "Epoch 39/50\n",
      "22/22 [==============================] - 15s 674ms/step - loss: 0.0819 - acc: 0.9773 - val_loss: 0.0854 - val_acc: 0.9805\n",
      "\n",
      "Epoch 00039: val_acc did not improve from 0.98828\n",
      "Epoch 00039: early stopping\n"
     ]
    },
    {
     "data": {
      "text/plain": [
       "<keras.callbacks.History at 0x2094572a0b8>"
      ]
     },
     "execution_count": 13,
     "metadata": {},
     "output_type": "execute_result"
    }
   ],
   "source": [
    "# Train the model \n",
    "model_final.fit_generator(\n",
    "train_generator,\n",
    "samples_per_epoch = nb_train_samples,\n",
    "epochs = epochs,\n",
    "validation_data = validation_generator,\n",
    "nb_val_samples = nb_validation_samples,\n",
    "callbacks = [checkpoint, early])"
   ]
  },
  {
   "cell_type": "code",
   "execution_count": 14,
   "metadata": {},
   "outputs": [],
   "source": [
    "test_datagen = ImageDataGenerator(\n",
    "rescale = 1./255,\n",
    "horizontal_flip = False,\n",
    "fill_mode = \"nearest\",\n",
    "width_shift_range = 0.05,\n",
    "height_shift_range=0.05,\n",
    "rotation_range=15)"
   ]
  },
  {
   "cell_type": "code",
   "execution_count": 15,
   "metadata": {},
   "outputs": [
    {
     "name": "stdout",
     "output_type": "stream",
     "text": [
      "Found 20 images belonging to 2 classes.\n"
     ]
    }
   ],
   "source": [
    "test_generator = test_datagen.flow_from_directory(\n",
    "test_data_dir,\n",
    "target_size = (img_height, img_width),\n",
    "batch_size = batch_size, \n",
    "class_mode = \"categorical\")"
   ]
  },
  {
   "cell_type": "code",
   "execution_count": 16,
   "metadata": {},
   "outputs": [],
   "source": [
    "score = model_final.evaluate_generator(test_generator, steps=20)"
   ]
  },
  {
   "cell_type": "code",
   "execution_count": 17,
   "metadata": {},
   "outputs": [
    {
     "name": "stdout",
     "output_type": "stream",
     "text": [
      "Accuracy of model on test data :  95.5\n"
     ]
    }
   ],
   "source": [
    "print(\"Accuracy of model on test data : \", score[1] * 100)"
   ]
  },
  {
   "cell_type": "code",
   "execution_count": null,
   "metadata": {},
   "outputs": [],
   "source": []
  }
 ],
 "metadata": {
  "kernelspec": {
   "display_name": "TensorFlow-GPU",
   "language": "python",
   "name": "tensorflow-gpu"
  },
  "language_info": {
   "codemirror_mode": {
    "name": "ipython",
    "version": 3
   },
   "file_extension": ".py",
   "mimetype": "text/x-python",
   "name": "python",
   "nbconvert_exporter": "python",
   "pygments_lexer": "ipython3",
   "version": "3.5.6"
  }
 },
 "nbformat": 4,
 "nbformat_minor": 2
}
